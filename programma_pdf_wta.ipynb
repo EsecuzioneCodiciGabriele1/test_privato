!pip install --upgrade papermill

import gdown
import papermill as pm
import requests

file_url = "https://drive.google.com/uc?id=1RCFNYwzMBC09MuesUVwb4PTMyVjGYeNc"
output_notebook = "notebook.ipynb"

# Scarica il notebook
gdown.download(file_url, output_notebook, quiet=False)

# Step 2: Esegui il notebook scaricato con papermill
output_executed_notebook = "notebook_output.ipynb"

pm.execute_notebook(
   output_notebook,           # Notebook scaricato
   output_executed_notebook    # Notebook di output dopo l'esecuzione
)

{
  "nbformat": 4,
  "nbformat_minor": 0,
  "metadata": {
    "colab": {
      "provenance": [],
      "authorship_tag": "ABX9TyM7ILfuGWUAMJGSGbgJDb+x",
      "include_colab_link": true
    },
    "kernelspec": {
      "name": "python3",
      "display_name": "Python 3"
    },
    "language_info": {
      "name": "python"
    }
  },
  "cells": [
    {
      "cell_type": "markdown",
      "metadata": {
        "id": "view-in-github",
        "colab_type": "text"
      },
      "source": [
        "<a href=\"https://colab.research.google.com/github/CodiciGabriele/test_privato/blob/main/create_pdf_women.ipynb\" target=\"_parent\"><img src=\"https://colab.research.google.com/assets/colab-badge.svg\" alt=\"Open In Colab\"/></a>"
      ]
    },
    {
      "cell_type": "code",
      "execution_count": null,
      "metadata": {
        "id": "vVjUOAMlqaz5"
      },
      "outputs": [],
      "source": [
        "!pip install --upgrade papermill\n",
        "\n",
        "import gdown\n",
        "import papermill as pm\n",
        "import requests\n",
        "\n",
        "file_url = \"https://drive.google.com/uc?id=1kj54fkBRfeYb0gCX0nyo1JuGtrn9aJNX\"\n",
        "output_notebook = \"notebook.ipynb\"\n",
        "\n",
        "# Scarica il notebook\n",
        "gdown.download(file_url, output_notebook, quiet=False)\n",
        "\n",
        "# Step 2: Esegui il notebook scaricato con papermill\n",
        "output_executed_notebook = \"notebook_output.ipynb\"\n",
        "\n",
        "pm.execute_notebook(\n",
        "   output_notebook,           # Notebook scaricato\n",
        "   output_executed_notebook    # Notebook di output dopo l'esecuzione\n",
        ")"
      ]
    }
  ]
}
